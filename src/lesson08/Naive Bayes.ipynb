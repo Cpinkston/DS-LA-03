{
 "metadata": {
  "name": ""
 },
 "nbformat": 3,
 "nbformat_minor": 0,
 "worksheets": [
  {
   "cells": [
    {
     "cell_type": "code",
     "collapsed": false,
     "input": [
      "from patsy import dmatrices\n",
      "import sklearn as sk\n",
      "import numpy as np\n",
      "import pandas\n",
      "import math\n",
      "\n",
      "# Read in data from UCI Machine Learning Repository\n",
      "featnames = np.array(['buyPrice', 'maintPrice', 'numDoors', 'numPersons', 'trunk', 'safety', 'eval'])\n",
      "df = pandas.read_csv('http://archive.ics.uci.edu/ml/machine-learning-databases/car/car.data',names=featnames)\n",
      "df.describe()\n"
     ],
     "language": "python",
     "metadata": {},
     "outputs": [
      {
       "html": [
        "<div style=\"max-height:1000px;max-width:1500px;overflow:auto;\">\n",
        "<table border=\"1\" class=\"dataframe\">\n",
        "  <thead>\n",
        "    <tr style=\"text-align: right;\">\n",
        "      <th></th>\n",
        "      <th>buyPrice</th>\n",
        "      <th>maintPrice</th>\n",
        "      <th>numDoors</th>\n",
        "      <th>numPersons</th>\n",
        "      <th>trunk</th>\n",
        "      <th>safety</th>\n",
        "      <th>eval</th>\n",
        "    </tr>\n",
        "  </thead>\n",
        "  <tbody>\n",
        "    <tr>\n",
        "      <th>count</th>\n",
        "      <td> 1728</td>\n",
        "      <td> 1728</td>\n",
        "      <td>  1728</td>\n",
        "      <td> 1728</td>\n",
        "      <td>  1728</td>\n",
        "      <td> 1728</td>\n",
        "      <td>  1728</td>\n",
        "    </tr>\n",
        "    <tr>\n",
        "      <th>unique</th>\n",
        "      <td>    4</td>\n",
        "      <td>    4</td>\n",
        "      <td>     4</td>\n",
        "      <td>    3</td>\n",
        "      <td>     3</td>\n",
        "      <td>    3</td>\n",
        "      <td>     4</td>\n",
        "    </tr>\n",
        "    <tr>\n",
        "      <th>top</th>\n",
        "      <td> high</td>\n",
        "      <td> high</td>\n",
        "      <td> 5more</td>\n",
        "      <td>    2</td>\n",
        "      <td> small</td>\n",
        "      <td> high</td>\n",
        "      <td> unacc</td>\n",
        "    </tr>\n",
        "    <tr>\n",
        "      <th>freq</th>\n",
        "      <td>  432</td>\n",
        "      <td>  432</td>\n",
        "      <td>   432</td>\n",
        "      <td>  576</td>\n",
        "      <td>   576</td>\n",
        "      <td>  576</td>\n",
        "      <td>  1210</td>\n",
        "    </tr>\n",
        "  </tbody>\n",
        "</table>\n",
        "<p>4 rows \u00d7 7 columns</p>\n",
        "</div>"
       ],
       "metadata": {},
       "output_type": "pyout",
       "prompt_number": 205,
       "text": [
        "       buyPrice maintPrice numDoors numPersons  trunk safety   eval\n",
        "count      1728       1728     1728       1728   1728   1728   1728\n",
        "unique        4          4        4          3      3      3      4\n",
        "top        high       high    5more          2  small   high  unacc\n",
        "freq        432        432      432        576    576    576   1210\n",
        "\n",
        "[4 rows x 7 columns]"
       ]
      }
     ],
     "prompt_number": 205
    },
    {
     "cell_type": "code",
     "collapsed": false,
     "input": [
      "df[df['eval'] == 'unacc'].describe()"
     ],
     "language": "python",
     "metadata": {},
     "outputs": [
      {
       "html": [
        "<div style=\"max-height:1000px;max-width:1500px;overflow:auto;\">\n",
        "<table border=\"1\" class=\"dataframe\">\n",
        "  <thead>\n",
        "    <tr style=\"text-align: right;\">\n",
        "      <th></th>\n",
        "      <th>buyPrice</th>\n",
        "      <th>maintPrice</th>\n",
        "      <th>numDoors</th>\n",
        "      <th>numPersons</th>\n",
        "      <th>trunk</th>\n",
        "      <th>safety</th>\n",
        "      <th>eval</th>\n",
        "    </tr>\n",
        "  </thead>\n",
        "  <tbody>\n",
        "    <tr>\n",
        "      <th>count</th>\n",
        "      <td>  1210</td>\n",
        "      <td>  1210</td>\n",
        "      <td> 1210</td>\n",
        "      <td> 1210</td>\n",
        "      <td>  1210</td>\n",
        "      <td> 1210</td>\n",
        "      <td>  1210</td>\n",
        "    </tr>\n",
        "    <tr>\n",
        "      <th>unique</th>\n",
        "      <td>     4</td>\n",
        "      <td>     4</td>\n",
        "      <td>    4</td>\n",
        "      <td>    3</td>\n",
        "      <td>     3</td>\n",
        "      <td>    3</td>\n",
        "      <td>     1</td>\n",
        "    </tr>\n",
        "    <tr>\n",
        "      <th>top</th>\n",
        "      <td> vhigh</td>\n",
        "      <td> vhigh</td>\n",
        "      <td>    2</td>\n",
        "      <td>    2</td>\n",
        "      <td> small</td>\n",
        "      <td>  low</td>\n",
        "      <td> unacc</td>\n",
        "    </tr>\n",
        "    <tr>\n",
        "      <th>freq</th>\n",
        "      <td>   360</td>\n",
        "      <td>   360</td>\n",
        "      <td>  326</td>\n",
        "      <td>  576</td>\n",
        "      <td>   450</td>\n",
        "      <td>  576</td>\n",
        "      <td>  1210</td>\n",
        "    </tr>\n",
        "  </tbody>\n",
        "</table>\n",
        "<p>4 rows \u00d7 7 columns</p>\n",
        "</div>"
       ],
       "metadata": {},
       "output_type": "pyout",
       "prompt_number": 213,
       "text": [
        "       buyPrice maintPrice numDoors numPersons  trunk safety   eval\n",
        "count      1210       1210     1210       1210   1210   1210   1210\n",
        "unique        4          4        4          3      3      3      1\n",
        "top       vhigh      vhigh        2          2  small    low  unacc\n",
        "freq        360        360      326        576    450    576   1210\n",
        "\n",
        "[4 rows x 7 columns]"
       ]
      }
     ],
     "prompt_number": 213
    },
    {
     "cell_type": "code",
     "collapsed": false,
     "input": [
      "df.head()"
     ],
     "language": "python",
     "metadata": {},
     "outputs": [
      {
       "html": [
        "<div style=\"max-height:1000px;max-width:1500px;overflow:auto;\">\n",
        "<table border=\"1\" class=\"dataframe\">\n",
        "  <thead>\n",
        "    <tr style=\"text-align: right;\">\n",
        "      <th></th>\n",
        "      <th>buyPrice</th>\n",
        "      <th>maintPrice</th>\n",
        "      <th>numDoors</th>\n",
        "      <th>numPersons</th>\n",
        "      <th>trunk</th>\n",
        "      <th>safety</th>\n",
        "      <th>eval</th>\n",
        "    </tr>\n",
        "  </thead>\n",
        "  <tbody>\n",
        "    <tr>\n",
        "      <th>0</th>\n",
        "      <td> vhigh</td>\n",
        "      <td> vhigh</td>\n",
        "      <td> 2</td>\n",
        "      <td> 2</td>\n",
        "      <td> small</td>\n",
        "      <td>  low</td>\n",
        "      <td> unacc</td>\n",
        "    </tr>\n",
        "    <tr>\n",
        "      <th>1</th>\n",
        "      <td> vhigh</td>\n",
        "      <td> vhigh</td>\n",
        "      <td> 2</td>\n",
        "      <td> 2</td>\n",
        "      <td> small</td>\n",
        "      <td>  med</td>\n",
        "      <td> unacc</td>\n",
        "    </tr>\n",
        "    <tr>\n",
        "      <th>2</th>\n",
        "      <td> vhigh</td>\n",
        "      <td> vhigh</td>\n",
        "      <td> 2</td>\n",
        "      <td> 2</td>\n",
        "      <td> small</td>\n",
        "      <td> high</td>\n",
        "      <td> unacc</td>\n",
        "    </tr>\n",
        "    <tr>\n",
        "      <th>3</th>\n",
        "      <td> vhigh</td>\n",
        "      <td> vhigh</td>\n",
        "      <td> 2</td>\n",
        "      <td> 2</td>\n",
        "      <td>   med</td>\n",
        "      <td>  low</td>\n",
        "      <td> unacc</td>\n",
        "    </tr>\n",
        "    <tr>\n",
        "      <th>4</th>\n",
        "      <td> vhigh</td>\n",
        "      <td> vhigh</td>\n",
        "      <td> 2</td>\n",
        "      <td> 2</td>\n",
        "      <td>   med</td>\n",
        "      <td>  med</td>\n",
        "      <td> unacc</td>\n",
        "    </tr>\n",
        "  </tbody>\n",
        "</table>\n",
        "<p>5 rows \u00d7 7 columns</p>\n",
        "</div>"
       ],
       "metadata": {},
       "output_type": "pyout",
       "prompt_number": 206,
       "text": [
        "  buyPrice maintPrice numDoors numPersons  trunk safety   eval\n",
        "0    vhigh      vhigh        2          2  small    low  unacc\n",
        "1    vhigh      vhigh        2          2  small    med  unacc\n",
        "2    vhigh      vhigh        2          2  small   high  unacc\n",
        "3    vhigh      vhigh        2          2    med    low  unacc\n",
        "4    vhigh      vhigh        2          2    med    med  unacc\n",
        "\n",
        "[5 rows x 7 columns]"
       ]
      }
     ],
     "prompt_number": 206
    },
    {
     "cell_type": "code",
     "collapsed": false,
     "input": [
      "y, X = dmatrices('eval ~ buyPrice + maintPrice + numDoors + numPersons + trunk - 1', data=df, return_type='dataframe')\n",
      "yy = y['eval[good]'] + y['eval[vgood]'] + y['eval[acc]']"
     ],
     "language": "python",
     "metadata": {},
     "outputs": [],
     "prompt_number": 218
    },
    {
     "cell_type": "code",
     "collapsed": false,
     "input": [
      "clf = sk.naive_bayes.BernoulliNB().fit(X, yy)\n",
      "print clf.intercept_\n",
      "print math.exp(clf.intercept_)"
     ],
     "language": "python",
     "metadata": {},
     "outputs": [
      {
       "output_type": "stream",
       "stream": "stdout",
       "text": [
        "[-1.20474471]\n",
        "0.299768518519\n"
       ]
      }
     ],
     "prompt_number": 208
    },
    {
     "cell_type": "code",
     "collapsed": false,
     "input": [
      "print \"Columns\", X.columns"
     ],
     "language": "python",
     "metadata": {},
     "outputs": [
      {
       "output_type": "stream",
       "stream": "stdout",
       "text": [
        "Columns Index([u'buyPrice[high]', u'buyPrice[low]', u'buyPrice[med]', u'buyPrice[vhigh]', u'maintPrice[T.low]', u'maintPrice[T.med]', u'maintPrice[T.vhigh]', u'numDoors[T.3]', u'numDoors[T.4]', u'numDoors[T.5more]', u'numPersons[T.4]', u'numPersons[T.more]', u'trunk[T.med]', u'trunk[T.small]'], dtype='object')\n",
        "   buyPrice[high]  buyPrice[low]  buyPrice[med]  buyPrice[vhigh]  \\\n",
        "0               0              0              0                1   \n",
        "1               0              0              0                1   \n",
        "2               0              0              0                1   \n",
        "3               0              0              0                1   \n",
        "4               0              0              0                1   \n",
        "\n",
        "   maintPrice[T.low]  maintPrice[T.med]  maintPrice[T.vhigh]  numDoors[T.3]  \\\n",
        "0                  0                  0                    1              0   \n",
        "1                  0                  0                    1              0   \n",
        "2                  0                  0                    1              0   \n",
        "3                  0                  0                    1              0   \n",
        "4                  0                  0                    1              0   \n",
        "\n",
        "   numDoors[T.4]  numDoors[T.5more]  numPersons[T.4]  numPersons[T.more]  \\\n",
        "0              0                  0                0                   0   \n",
        "1              0                  0                0                   0   \n",
        "2              0                  0                0                   0   \n",
        "3              0                  0                0                   0   \n",
        "4              0                  0                0                   0   \n",
        "\n",
        "   trunk[T.med]  trunk[T.small]  \n",
        "0             0               1  \n",
        "1             0               1  \n",
        "2             0               1  \n",
        "3             1               0  \n",
        "4             1               0  \n",
        "\n",
        "[5 rows x 14 columns]\n"
       ]
      }
     ],
     "prompt_number": 219
    },
    {
     "cell_type": "code",
     "collapsed": false,
     "input": [
      "print \"Coefs\", clf.coef_[0]"
     ],
     "language": "python",
     "metadata": {},
     "outputs": [
      {
       "output_type": "stream",
       "stream": "stdout",
       "text": [
        "Coefs [-1.56248093 -1.08904284 -1.14788334 -1.96336937 -1.14788334 -1.14788334\n",
        " -1.96336937 -1.36347968 -1.30506892 -1.30506892 -0.67409899 -0.71256527\n",
        " -1.03347299 -1.40964173]\n"
       ]
      }
     ],
     "prompt_number": 210
    },
    {
     "cell_type": "code",
     "collapsed": false,
     "input": [
      "top = np.argsort(clf.coef_[0])\n",
      "print top\n",
      "print clf.coef_[0][top]"
     ],
     "language": "python",
     "metadata": {},
     "outputs": [
      {
       "output_type": "stream",
       "stream": "stdout",
       "text": [
        "[ 3  6  0 13  7  8  9  2  4  5  1 12 11 10]\n",
        "[-1.96336937 -1.96336937 -1.56248093 -1.40964173 -1.36347968 -1.30506892\n",
        " -1.30506892 -1.14788334 -1.14788334 -1.14788334 -1.08904284 -1.03347299\n",
        " -0.71256527 -0.67409899]\n"
       ]
      }
     ],
     "prompt_number": 211
    },
    {
     "cell_type": "code",
     "collapsed": false,
     "input": [
      "print X.columns[top]"
     ],
     "language": "python",
     "metadata": {},
     "outputs": [
      {
       "output_type": "stream",
       "stream": "stdout",
       "text": [
        "Index([u'buyPrice[vhigh]', u'maintPrice[T.vhigh]', u'buyPrice[high]', u'trunk[T.small]', u'numDoors[T.3]', u'numDoors[T.4]', u'numDoors[T.5more]', u'buyPrice[med]', u'maintPrice[T.low]', u'maintPrice[T.med]', u'buyPrice[low]', u'trunk[T.med]', u'numPersons[T.more]', u'numPersons[T.4]'], dtype='object')\n"
       ]
      }
     ],
     "prompt_number": 212
    }
   ],
   "metadata": {}
  }
 ]
}