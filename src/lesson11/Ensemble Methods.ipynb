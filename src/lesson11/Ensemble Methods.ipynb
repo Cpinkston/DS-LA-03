{
 "metadata": {
  "name": ""
 },
 "nbformat": 3,
 "nbformat_minor": 0,
 "worksheets": [
  {
   "cells": [
    {
     "cell_type": "markdown",
     "metadata": {},
     "source": [
      "This is a tour of [Scikit Learn's Ensemble Guide](http://scikit-learn.org/stable/modules/ensemble.html)\n",
      "\n",
      "They cover:\n",
      "\n",
      "- Random Forests and variations\n",
      "- AdaBoost\n",
      "- Gradient Tree Boosting\n",
      "\n",
      "We'll just touch on the first two."
     ]
    },
    {
     "cell_type": "heading",
     "level": 2,
     "metadata": {},
     "source": [
      "Randomized Trees"
     ]
    },
    {
     "cell_type": "heading",
     "level": 3,
     "metadata": {},
     "source": [
      "Plot the decision suervices of ensembles of trees on the iris dataset"
     ]
    },
    {
     "cell_type": "markdown",
     "metadata": {},
     "source": [
      "From: http://scikit-learn.org/stable/auto_examples/ensemble/plot_forest_iris.html\n",
      "\n",
      ">This plot compares the decision surfaces learned by a decision tree classifier (first column), by a random forest classifier (second column), by an extra- trees classifier (third column) and by an AdaBoost classifier (fourth column).\n",
      "\n",
      ">In the first row, the classifiers are built using the sepal width and the sepal length features only, on the second row using the petal length and sepal length only, and on the third row using the petal width and the petal length only."
     ]
    },
    {
     "cell_type": "markdown",
     "metadata": {},
     "source": [
      "![Decision Surface](http://scikit-learn.org/stable/_images/plot_forest_iris_1.png \"Decision Surface\")"
     ]
    },
    {
     "cell_type": "heading",
     "level": 3,
     "metadata": {},
     "source": [
      "Super quick run through of randomized trees"
     ]
    },
    {
     "cell_type": "code",
     "collapsed": false,
     "input": [
      "from sklearn.cross_validation import cross_val_score\n",
      "from sklearn.datasets import make_blobs\n",
      "from sklearn.ensemble import RandomForestClassifier\n",
      "from sklearn.ensemble import ExtraTreesClassifier\n",
      "from sklearn.tree import DecisionTreeClassifier\n",
      "%pylab inline"
     ],
     "language": "python",
     "metadata": {},
     "outputs": [
      {
       "output_type": "stream",
       "stream": "stdout",
       "text": [
        "Populating the interactive namespace from numpy and matplotlib\n"
       ]
      }
     ],
     "prompt_number": 20
    },
    {
     "cell_type": "markdown",
     "metadata": {},
     "source": [
      "Create random data: 10,000 samples with 10 features, clustered around 100 centers."
     ]
    },
    {
     "cell_type": "code",
     "collapsed": false,
     "input": [
      "X, y = make_blobs(n_samples=10000, n_features=10, centers=100, random_state=0)"
     ],
     "language": "python",
     "metadata": {},
     "outputs": [],
     "prompt_number": 2
    },
    {
     "cell_type": "heading",
     "level": 4,
     "metadata": {},
     "source": [
      "Decision Tree"
     ]
    },
    {
     "cell_type": "code",
     "collapsed": false,
     "input": [
      "clf = DecisionTreeClassifier(max_depth=None, min_samples_split=1, random_state=0)\n",
      "scores = cross_val_score(clf, X, y)\n",
      "scores.mean()                             "
     ],
     "language": "python",
     "metadata": {},
     "outputs": [
      {
       "metadata": {},
       "output_type": "pyout",
       "prompt_number": 3,
       "text": [
        "0.98040013959404337"
       ]
      }
     ],
     "prompt_number": 3
    },
    {
     "cell_type": "heading",
     "level": 4,
     "metadata": {},
     "source": [
      "Random Forest"
     ]
    },
    {
     "cell_type": "code",
     "collapsed": false,
     "input": [
      "clf = RandomForestClassifier(n_estimators=10, max_depth=None, min_samples_split=1, random_state=0)\n",
      "scores = cross_val_score(clf, X, y)\n",
      "scores.mean()                             "
     ],
     "language": "python",
     "metadata": {},
     "outputs": [
      {
       "metadata": {},
       "output_type": "pyout",
       "prompt_number": 4,
       "text": [
        "0.99960004998700225"
       ]
      }
     ],
     "prompt_number": 4
    },
    {
     "cell_type": "heading",
     "level": 4,
     "metadata": {},
     "source": [
      "AdaBoost"
     ]
    },
    {
     "cell_type": "code",
     "collapsed": false,
     "input": [
      "clf = AdaBoostClassifier(n_estimators=100)\n",
      "scores = cross_val_score(clf, iris.data, iris.target)\n",
      "scores.mean()"
     ],
     "language": "python",
     "metadata": {},
     "outputs": [
      {
       "metadata": {},
       "output_type": "pyout",
       "prompt_number": 24,
       "text": [
        "0.95999999999999996"
       ]
      }
     ],
     "prompt_number": 24
    },
    {
     "cell_type": "heading",
     "level": 4,
     "metadata": {},
     "source": [
      "Extra-Trees"
     ]
    },
    {
     "cell_type": "markdown",
     "metadata": {},
     "source": [
      "A random subset of candidate features is used, but instead of looking for the most discriminative thresholds, thresholds are drawn at random for each candidate feature and the best of these randomly-generated thresholds is picked as the splitting rule. This usually allows to reduce the variance of the model a bit more, at the expense of a slightly greater increase in bias"
     ]
    },
    {
     "cell_type": "code",
     "collapsed": false,
     "input": [
      "clf = ExtraTreesClassifier(n_estimators=10, max_depth=None, min_samples_split=1, random_state=0)\n",
      "scores = cross_val_score(clf, X, y)\n",
      "scores.mean() > 0.9997"
     ],
     "language": "python",
     "metadata": {},
     "outputs": []
    },
    {
     "cell_type": "heading",
     "level": 3,
     "metadata": {},
     "source": [
      "Feature importances with forests of trees"
     ]
    },
    {
     "cell_type": "markdown",
     "metadata": {},
     "source": [
      "Adaptived from Scikit's [Feature importances with forests of trees](\n",
      "http://scikit-learn.org/stable/auto_examples/ensemble/plot_forest_importances.html#example-ensemble-plot-forest-importances-py):\n",
      "\n",
      "Let's revisit the car buying example from our [Naive Bayes lesson](http://nbviewer.ipython.org/urls/raw.githubusercontent.com/adparker/GADSLA_1403/master/src/lesson08/Naive%20Bayes.ipynb?create=1\n",
      "):\n"
     ]
    },
    {
     "cell_type": "code",
     "collapsed": false,
     "input": [
      "import numpy as np\n",
      "from patsy import dmatrices\n",
      "import pandas\n",
      "from sklearn.ensemble import ExtraTreesClassifier\n",
      "\n",
      "# Fetch the car buying data.\n",
      "featnames = np.array(['buyPrice', 'maintPrice', 'numDoors', 'numPersons', 'trunk', 'safety', 'eval'])\n",
      "df = pandas.read_csv('http://archive.ics.uci.edu/ml/machine-learning-databases/car/car.data',names=featnames)\n",
      "# Turn categorical columns into dummy variables.\n",
      "yy, X = dmatrices('eval ~ buyPrice + maintPrice + numDoors + numPersons + trunk - 1', data=df, return_type='dataframe')\n",
      "y = yy['eval[good]'] + yy['eval[vgood]'] + yy['eval[acc]']\n",
      "\n",
      "# Build a forest and compute the feature importances\n",
      "forest = ExtraTreesClassifier(n_estimators=250,\n",
      "                              random_state=0)\n",
      "\n",
      "#forest.fit(X, y)\n",
      "importances = forest.feature_importances_\n",
      "std = np.std([tree.feature_importances_ for tree in forest.estimators_],\n",
      "             axis=0)\n",
      "indices = np.argsort(importances)[::-1]\n",
      "\n",
      "# Print the feature ranking\n",
      "print(\"Feature ranking:\")\n",
      "\n",
      "#for f in range(10):\n",
      "for f in range(len(indices)):\n",
      "    print(\"%d. feature %d %s (%f)\" % (f + 1, indices[f], X.columns[indices[f]], importances[indices[f]]))\n",
      "\n",
      "# Plot the feature importances of the forest\n",
      "import pylab as pl\n",
      "pl.figure()\n",
      "pl.title(\"Feature importances\")\n",
      "pl.bar(range(len(indices)), importances[indices], color=\"r\", yerr=std[indices], align=\"center\")\n",
      "pl.xticks(range(10), indices)\n",
      "pl.xlim([-1, 10])\n",
      "pl.show()"
     ],
     "language": "python",
     "metadata": {},
     "outputs": [
      {
       "output_type": "stream",
       "stream": "stdout",
       "text": [
        "Feature ranking:\n",
        "1. feature 10 numPersons[T.4] (0.291549)\n",
        "2. feature 11 numPersons[T.more] (0.253490)\n",
        "3. feature 6 maintPrice[T.vhigh] (0.072988)\n",
        "4. feature 13 trunk[T.small] (0.061516)\n",
        "5. feature 3 buyPrice[vhigh] (0.060181)\n",
        "6. feature 4 maintPrice[T.low] (0.045497)\n",
        "7. feature 5 maintPrice[T.med] (0.045302)\n",
        "8. feature 1 buyPrice[low] (0.035117)\n",
        "9. feature 0 buyPrice[high] (0.033477)\n",
        "10. feature 2 buyPrice[med] (0.028136)\n",
        "11. feature 9 numDoors[T.5more] (0.022395)\n",
        "12. feature 8 numDoors[T.4] (0.022119)\n",
        "13. feature 7 numDoors[T.3] (0.016833)\n",
        "14. feature 12 trunk[T.med] (0.011399)\n"
       ]
      },
      {
       "metadata": {},
       "output_type": "display_data",
       "png": "[encoded data removed]",
       "text": [
        "<matplotlib.figure.Figure at 0x10684e450>"
       ]
      }
     ],
     "prompt_number": 21
    },
    {
     "cell_type": "heading",
     "level": 3,
     "metadata": {},
     "source": [
      "Decision Tree Regression with AdaBoost"
     ]
    },
    {
     "cell_type": "markdown",
     "metadata": {},
     "source": [
      "From Scikit's [Decision Tree Regression with AdaBoost](http://scikit-learn.org/stable/auto_examples/ensemble/plot_adaboost_regression.html#example-ensemble-plot-adaboost-regression-py)"
     ]
    },
    {
     "cell_type": "markdown",
     "metadata": {},
     "source": [
      "A decision tree is boosted using the AdaBoost.R2 [1] algorithm on a 1D sinusoidal dataset with a small amount of Gaussian noise. 299 boosts (300 decision trees) is compared with a single decision tree regressor. As the number of boosts is increased the regressor can fit more detail."
     ]
    },
    {
     "cell_type": "code",
     "collapsed": false,
     "input": [
      "# Create a the dataset\n",
      "rng = np.random.RandomState(1)\n",
      "X = np.linspace(0, 6, 100)[:, np.newaxis]\n",
      "y = np.sin(X).ravel() + np.sin(6 * X).ravel() + rng.normal(0, 0.1, X.shape[0])\n",
      "\n",
      "# Fit regression model\n",
      "from sklearn.tree import DecisionTreeRegressor\n",
      "from sklearn.ensemble import AdaBoostRegressor\n",
      "\n",
      "clf_1 = DecisionTreeRegressor(max_depth=4)\n",
      "\n",
      "clf_2 = AdaBoostRegressor(DecisionTreeRegressor(max_depth=4),\n",
      "                          n_estimators=300, random_state=rng)\n",
      "\n",
      "clf_1.fit(X, y)\n",
      "clf_2.fit(X, y)\n",
      "\n",
      "# Predict\n",
      "y_1 = clf_1.predict(X)\n",
      "y_2 = clf_2.predict(X)\n",
      "\n",
      "# Plot the results\n",
      "import pylab as pl\n",
      "\n",
      "pl.figure()\n",
      "pl.scatter(X, y, c=\"k\", label=\"training samples\")\n",
      "pl.plot(X, y_1, c=\"g\", label=\"n_estimators=1\", linewidth=2)\n",
      "pl.plot(X, y_2, c=\"r\", label=\"n_estimators=300\", linewidth=2)\n",
      "pl.xlabel(\"data\")\n",
      "pl.ylabel(\"target\")\n",
      "pl.title(\"Boosted Decision Tree Regression\")\n",
      "pl.legend()\n",
      "pl.show()"
     ],
     "language": "python",
     "metadata": {},
     "outputs": [
      {
       "metadata": {},
       "output_type": "display_data",
       "png": "[encoded data removed]",
       "text": [
        "<matplotlib.figure.Figure at 0x10684e450>"
       ]
      }
     ],
     "prompt_number": 22
    },
    {
     "cell_type": "code",
     "collapsed": false,
     "input": [],
     "language": "python",
     "metadata": {},
     "outputs": []
    }
   ],
   "metadata": {}
  }
 ]
}