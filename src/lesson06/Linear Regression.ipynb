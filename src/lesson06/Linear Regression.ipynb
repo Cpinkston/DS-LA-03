{
 "metadata": {
  "name": ""
 },
 "nbformat": 3,
 "nbformat_minor": 0,
 "worksheets": [
  {
   "cells": [
    {
     "cell_type": "heading",
     "level": 2,
     "metadata": {},
     "source": [
      "Introduction"
     ]
    },
    {
     "cell_type": "markdown",
     "metadata": {},
     "source": [
      "In this exercise, we'll be playing around with simple linear regression. We'll be using the following libraries. You should be able to just `pip install -U` or `easy_install -U` if you don't already have them. The `-U` means to *update*.\n",
      "\n",
      "- `pandas` which we'll use for getting data;\n",
      "  - `pip install -U pandas`\n",
      "- `patsy` which helps us create *design matrices* for our linear models;\n",
      "  - `pip install -U patsy`\n",
      "- `Scikit-learn` for creating and fitting our linear models\n",
      "  - `pip install -U scikit-learn`"
     ]
    },
    {
     "cell_type": "heading",
     "level": 2,
     "metadata": {},
     "source": [
      "Getting Data"
     ]
    },
    {
     "cell_type": "markdown",
     "metadata": {},
     "source": [
      "First, get some TSV data using the `pandas` library. Note that `pandas` can fetch URLs. It also by default expects header information in the TSV. More info about the data is here:\n",
      "http://data.princeton.edu/wws509/datasets/#salary\n",
      "\n",
      " These are the salary data used in Weisberg's book, consisting of observations on six variables for 52 tenure-track professors in a small college. The variables are:\n",
      "\n",
      "    sx = Sex, coded 1 for female and 0 for male\n",
      "    rk = Rank, coded\n",
      "        1 for assistant professor,\n",
      "        2 for associate professor, and\n",
      "        3 for full professor \n",
      "    yr = Number of years in current rank\n",
      "    dg = Highest degree, coded 1 if doctorate, 0 if masters\n",
      "    yd = Number of years since highest degree was earned\n",
      "    sl = Academic year salary, in dollars. "
     ]
    },
    {
     "cell_type": "code",
     "collapsed": false,
     "input": [
      "import pandas\n",
      "data = pandas.read_csv(\"http://data.princeton.edu/wws509/datasets/salary.dat\", sep='\\s+')\n",
      "data[0:10] # Look at the first 7 rows of data"
     ],
     "language": "python",
     "metadata": {},
     "outputs": [
      {
       "html": [
        "<div style=\"max-height:1000px;max-width:1500px;overflow:auto;\">\n",
        "<table border=\"1\" class=\"dataframe\">\n",
        "  <thead>\n",
        "    <tr style=\"text-align: right;\">\n",
        "      <th></th>\n",
        "      <th>sx</th>\n",
        "      <th>rk</th>\n",
        "      <th>yr</th>\n",
        "      <th>dg</th>\n",
        "      <th>yd</th>\n",
        "      <th>sl</th>\n",
        "    </tr>\n",
        "  </thead>\n",
        "  <tbody>\n",
        "    <tr>\n",
        "      <th>0</th>\n",
        "      <td>   male</td>\n",
        "      <td> full</td>\n",
        "      <td> 25</td>\n",
        "      <td> doctorate</td>\n",
        "      <td> 35</td>\n",
        "      <td> 36350</td>\n",
        "    </tr>\n",
        "    <tr>\n",
        "      <th>1</th>\n",
        "      <td>   male</td>\n",
        "      <td> full</td>\n",
        "      <td> 13</td>\n",
        "      <td> doctorate</td>\n",
        "      <td> 22</td>\n",
        "      <td> 35350</td>\n",
        "    </tr>\n",
        "    <tr>\n",
        "      <th>2</th>\n",
        "      <td>   male</td>\n",
        "      <td> full</td>\n",
        "      <td> 10</td>\n",
        "      <td> doctorate</td>\n",
        "      <td> 23</td>\n",
        "      <td> 28200</td>\n",
        "    </tr>\n",
        "    <tr>\n",
        "      <th>3</th>\n",
        "      <td> female</td>\n",
        "      <td> full</td>\n",
        "      <td>  7</td>\n",
        "      <td> doctorate</td>\n",
        "      <td> 27</td>\n",
        "      <td> 26775</td>\n",
        "    </tr>\n",
        "    <tr>\n",
        "      <th>4</th>\n",
        "      <td>   male</td>\n",
        "      <td> full</td>\n",
        "      <td> 19</td>\n",
        "      <td>   masters</td>\n",
        "      <td> 30</td>\n",
        "      <td> 33696</td>\n",
        "    </tr>\n",
        "    <tr>\n",
        "      <th>5</th>\n",
        "      <td>   male</td>\n",
        "      <td> full</td>\n",
        "      <td> 16</td>\n",
        "      <td> doctorate</td>\n",
        "      <td> 21</td>\n",
        "      <td> 28516</td>\n",
        "    </tr>\n",
        "    <tr>\n",
        "      <th>6</th>\n",
        "      <td> female</td>\n",
        "      <td> full</td>\n",
        "      <td>  0</td>\n",
        "      <td>   masters</td>\n",
        "      <td> 32</td>\n",
        "      <td> 24900</td>\n",
        "    </tr>\n",
        "    <tr>\n",
        "      <th>7</th>\n",
        "      <td>   male</td>\n",
        "      <td> full</td>\n",
        "      <td> 16</td>\n",
        "      <td> doctorate</td>\n",
        "      <td> 18</td>\n",
        "      <td> 31909</td>\n",
        "    </tr>\n",
        "    <tr>\n",
        "      <th>8</th>\n",
        "      <td>   male</td>\n",
        "      <td> full</td>\n",
        "      <td> 13</td>\n",
        "      <td>   masters</td>\n",
        "      <td> 30</td>\n",
        "      <td> 31850</td>\n",
        "    </tr>\n",
        "    <tr>\n",
        "      <th>9</th>\n",
        "      <td>   male</td>\n",
        "      <td> full</td>\n",
        "      <td> 13</td>\n",
        "      <td>   masters</td>\n",
        "      <td> 31</td>\n",
        "      <td> 32850</td>\n",
        "    </tr>\n",
        "  </tbody>\n",
        "</table>\n",
        "<p>10 rows \u00d7 6 columns</p>\n",
        "</div>"
       ],
       "metadata": {},
       "output_type": "pyout",
       "prompt_number": 93,
       "text": [
        "       sx    rk  yr         dg  yd     sl\n",
        "0    male  full  25  doctorate  35  36350\n",
        "1    male  full  13  doctorate  22  35350\n",
        "2    male  full  10  doctorate  23  28200\n",
        "3  female  full   7  doctorate  27  26775\n",
        "4    male  full  19    masters  30  33696\n",
        "5    male  full  16  doctorate  21  28516\n",
        "6  female  full   0    masters  32  24900\n",
        "7    male  full  16  doctorate  18  31909\n",
        "8    male  full  13    masters  30  31850\n",
        "9    male  full  13    masters  31  32850\n",
        "\n",
        "[10 rows x 6 columns]"
       ]
      }
     ],
     "prompt_number": 93
    },
    {
     "cell_type": "heading",
     "level": 2,
     "metadata": {},
     "source": [
      "The Linear Model"
     ]
    },
    {
     "cell_type": "markdown",
     "metadata": {},
     "source": [
      "Let's use `patsy` to create a design matrix to learn the following high-level model:\n",
      "\n",
      "$$\\widehat{\\text{salary}} = \\beta_0 + \\beta_\\text{sex} \\cdot \\text{sex} + \\beta_\\text{years_in_rank} \\cdot \\text{years_in_rank} + \\beta_\\text{rank} \\cdot \\text{rank}$$"
     ]
    },
    {
     "cell_type": "code",
     "collapsed": false,
     "input": [
      "from patsy import dmatrices\n",
      "# The '- 1' in the formula is to remove the intercept, which gets added back in later by sklearn.\n",
      "y, X = dmatrices('sl ~ sx + yr + rk - 1', data=data, return_type='dataframe')\n",
      "X.head()"
     ],
     "language": "python",
     "metadata": {},
     "outputs": [
      {
       "html": [
        "<div style=\"max-height:1000px;max-width:1500px;overflow:auto;\">\n",
        "<table border=\"1\" class=\"dataframe\">\n",
        "  <thead>\n",
        "    <tr style=\"text-align: right;\">\n",
        "      <th></th>\n",
        "      <th>sx[female]</th>\n",
        "      <th>sx[male]</th>\n",
        "      <th>rk[T.associate]</th>\n",
        "      <th>rk[T.full]</th>\n",
        "      <th>yr</th>\n",
        "    </tr>\n",
        "  </thead>\n",
        "  <tbody>\n",
        "    <tr>\n",
        "      <th>0</th>\n",
        "      <td> 0</td>\n",
        "      <td> 1</td>\n",
        "      <td> 0</td>\n",
        "      <td> 1</td>\n",
        "      <td> 25</td>\n",
        "    </tr>\n",
        "    <tr>\n",
        "      <th>1</th>\n",
        "      <td> 0</td>\n",
        "      <td> 1</td>\n",
        "      <td> 0</td>\n",
        "      <td> 1</td>\n",
        "      <td> 13</td>\n",
        "    </tr>\n",
        "    <tr>\n",
        "      <th>2</th>\n",
        "      <td> 0</td>\n",
        "      <td> 1</td>\n",
        "      <td> 0</td>\n",
        "      <td> 1</td>\n",
        "      <td> 10</td>\n",
        "    </tr>\n",
        "    <tr>\n",
        "      <th>3</th>\n",
        "      <td> 1</td>\n",
        "      <td> 0</td>\n",
        "      <td> 0</td>\n",
        "      <td> 1</td>\n",
        "      <td>  7</td>\n",
        "    </tr>\n",
        "    <tr>\n",
        "      <th>4</th>\n",
        "      <td> 0</td>\n",
        "      <td> 1</td>\n",
        "      <td> 0</td>\n",
        "      <td> 1</td>\n",
        "      <td> 19</td>\n",
        "    </tr>\n",
        "  </tbody>\n",
        "</table>\n",
        "<p>5 rows \u00d7 5 columns</p>\n",
        "</div>"
       ],
       "metadata": {},
       "output_type": "pyout",
       "prompt_number": 111,
       "text": [
        "   sx[female]  sx[male]  rk[T.associate]  rk[T.full]  yr\n",
        "0           0         1                0           1  25\n",
        "1           0         1                0           1  13\n",
        "2           0         1                0           1  10\n",
        "3           1         0                0           1   7\n",
        "4           0         1                0           1  19\n",
        "\n",
        "[5 rows x 5 columns]"
       ]
      }
     ],
     "prompt_number": 111
    },
    {
     "cell_type": "markdown",
     "metadata": {},
     "source": [
      "Actually, we need everything to be numeric, but gender and rank are labels, not numbers. We use *indicator* or *dummy* variables to turn labels into numbers. `patsy` does this for us by splitting non-numeric data into boolean columns. So really, the formula looks like this after going through patsy:\n",
      "\n",
      "$$\\widehat{\\text{salary}} = \\beta_0 + \\beta_1 \\cdot 1_{\\text{female}} + \\beta_2 \\cdot 1_{\\text{male}} + \\beta_3 \\cdot 1_{\\text{associate}} + \\beta_4 \\cdot 1_{\\text{full}} + \\beta_5 \\cdot \\text{years_in_rank}$$\n",
      "\n",
      "For labels with just two values, such as *sex*, I've seen `patsy` sometimes just use `sx[female]` and not have `sx[male]`. It's not super consistent."
     ]
    },
    {
     "cell_type": "markdown",
     "metadata": {},
     "source": [
      "Now to bring in `sklearn` to fit a linear regression to the above formula."
     ]
    },
    {
     "cell_type": "code",
     "collapsed": false,
     "input": [
      "from sklearn.linear_model import LinearRegression\n",
      "model = LinearRegression()\n",
      "model = model.fit(X,y)\n",
      "# Our header for X is:\n",
      "# sx[female]  sx[male]  rk[T.associate]  rk[T.full]  yr\n",
      "print model.coef_\n",
      "print model.intercept_"
     ],
     "language": "python",
     "metadata": {},
     "outputs": [
      {
       "output_type": "stream",
       "stream": "stdout",
       "text": [
        "[[  262.07460543  -262.07460543  4373.91539051  9483.84186941\n",
        "    390.93575731]]\n",
        "[ 16168.88707847]\n"
       ]
      }
     ],
     "prompt_number": 121
    },
    {
     "cell_type": "markdown",
     "metadata": {},
     "source": [
      "- `model.coef_` are the learned coef of the $\\beta$ parameters. \n",
      "- `model.intercept_` is automatically included by sklearn. \n",
      "\n",
      "So now we have this formula:\n",
      "\n",
      "$$\\widehat{\\text{salary}} = \\$16168 + \\$262 \\cdot 1_{\\text{female}} - \\$262 \\cdot 1_{\\text{male}} + \\$4373 \\cdot 1_{\\text{associate}} + \\$9483 \\cdot 1_{\\text{full}} + \\$390 \\cdot \\text{years_in_rank}$$"
     ]
    },
    {
     "cell_type": "markdown",
     "metadata": {},
     "source": [
      "How good is the fit? Take a look at the $R^2$ value."
     ]
    },
    {
     "cell_type": "code",
     "collapsed": false,
     "input": [
      "print model.score(X,y) # R^2 value"
     ],
     "language": "python",
     "metadata": {},
     "outputs": [
      {
       "ename": "AttributeError",
       "evalue": "'RidgeCV' object has no attribute 'summary'",
       "output_type": "pyerr",
       "traceback": [
        "\u001b[0;31m---------------------------------------------------------------------------\u001b[0m\n\u001b[0;31mAttributeError\u001b[0m                            Traceback (most recent call last)",
        "\u001b[0;32m<ipython-input-119-12614daa2385>\u001b[0m in \u001b[0;36m<module>\u001b[0;34m()\u001b[0m\n\u001b[1;32m      1\u001b[0m \u001b[0;32mprint\u001b[0m \u001b[0mmodel\u001b[0m\u001b[0;34m.\u001b[0m\u001b[0mscore\u001b[0m\u001b[0;34m(\u001b[0m\u001b[0mX\u001b[0m\u001b[0;34m,\u001b[0m\u001b[0my\u001b[0m\u001b[0;34m)\u001b[0m \u001b[0;31m# R^2 value\u001b[0m\u001b[0;34m\u001b[0m\u001b[0m\n\u001b[0;32m----> 2\u001b[0;31m \u001b[0;32mprint\u001b[0m \u001b[0mmodel\u001b[0m\u001b[0;34m.\u001b[0m\u001b[0msummary\u001b[0m\u001b[0;34m(\u001b[0m\u001b[0;34m)\u001b[0m\u001b[0;34m\u001b[0m\u001b[0m\n\u001b[0m",
        "\u001b[0;31mAttributeError\u001b[0m: 'RidgeCV' object has no attribute 'summary'"
       ]
      },
      {
       "output_type": "stream",
       "stream": "stdout",
       "text": [
        "0.846059364483\n"
       ]
      }
     ],
     "prompt_number": 119
    },
    {
     "cell_type": "markdown",
     "metadata": {},
     "source": [
      "To double-check things, let's predict the salary of a 4th year female Assistant Prof. Remember, the header for X is:\n",
      "\n",
      "```sx[female]  sx[male]  rk[T.associate]  rk[T.full]  yr```"
     ]
    },
    {
     "cell_type": "code",
     "collapsed": false,
     "input": [
      "print model.predict([1,0,0,0,4])"
     ],
     "language": "python",
     "metadata": {},
     "outputs": [
      {
       "output_type": "stream",
       "stream": "stdout",
       "text": [
        "[ 17994.70471315]\n"
       ]
      }
     ],
     "prompt_number": 88
    },
    {
     "cell_type": "markdown",
     "metadata": {},
     "source": [
      "Using Pandas, we can look at specific examples from our data that match the above criteria (4th year female Asst. Prof.)."
     ]
    },
    {
     "cell_type": "code",
     "collapsed": false,
     "input": [
      "target = (X['sx[female]'] == 0) & (X['rk[T.associate]'] == 0) & (X['rk[T.full]'] == 0) & (X['yr'] == 4)\n",
      "y[target]"
     ],
     "language": "python",
     "metadata": {},
     "outputs": [
      {
       "html": [
        "<div style=\"max-height:1000px;max-width:1500px;overflow:auto;\">\n",
        "<table border=\"1\" class=\"dataframe\">\n",
        "  <thead>\n",
        "    <tr style=\"text-align: right;\">\n",
        "      <th></th>\n",
        "      <th>sl</th>\n",
        "    </tr>\n",
        "  </thead>\n",
        "  <tbody>\n",
        "    <tr>\n",
        "      <th>37</th>\n",
        "      <td> 17095</td>\n",
        "    </tr>\n",
        "    <tr>\n",
        "      <th>38</th>\n",
        "      <td> 16700</td>\n",
        "    </tr>\n",
        "    <tr>\n",
        "      <th>39</th>\n",
        "      <td> 17600</td>\n",
        "    </tr>\n",
        "  </tbody>\n",
        "</table>\n",
        "<p>3 rows \u00d7 1 columns</p>\n",
        "</div>"
       ],
       "metadata": {},
       "output_type": "pyout",
       "prompt_number": 81,
       "text": [
        "       sl\n",
        "37  17095\n",
        "38  16700\n",
        "39  17600\n",
        "\n",
        "[3 rows x 1 columns]"
       ]
      }
     ],
     "prompt_number": 81
    },
    {
     "cell_type": "heading",
     "level": 2,
     "metadata": {},
     "source": [
      "Linear Model with Ridge Regression"
     ]
    },
    {
     "cell_type": "markdown",
     "metadata": {},
     "source": [
      "`sklearn` can also help us use Ridge Regression. [More info here](http://scikit-learn.org/stable/modules/generated/sklearn.linear_model.Ridge.html)\n",
      ">This model solves a regression model where the loss function is the linear least squares function and regularization is given by the l2-norm.\n",
      "\n",
      "BTW, [Lasso](http://scikit-learn.org/stable/modules/generated/sklearn.linear_model.Lasso.html) is also available."
     ]
    },
    {
     "cell_type": "code",
     "collapsed": false,
     "input": [
      "from sklearn import linear_model\n",
      "\n",
      "model = linear_model.Ridge(alpha = .5)\n",
      "model.fit(X,y)\n",
      "\n",
      "print X.columns\n",
      "print model.coef_\n",
      "print model.intercept_\n",
      "print model.score(X,y)"
     ],
     "language": "python",
     "metadata": {},
     "outputs": [
      {
       "output_type": "stream",
       "stream": "stdout",
       "text": [
        "Index([u'sx[female]', u'sx[male]', u'rk[T.associate]', u'rk[T.full]', u'yr'], dtype='object')\n",
        "[[  216.70779085  -216.70779085  3782.30782171  8722.21454655\n",
        "    417.78071115]]\n",
        "[ 16399.34019052]\n",
        "0.84368706865\n"
       ]
      }
     ],
     "prompt_number": 116
    },
    {
     "cell_type": "heading",
     "level": 2,
     "metadata": {},
     "source": [
      "Ridge Regression and Cross Validation"
     ]
    },
    {
     "cell_type": "markdown",
     "metadata": {},
     "source": [
      "Finally, you can try many different alpha values, *and* train using cross-validation. [Documentation on `linear_model.Ridge.CV`](http://scikit-learn.org/stable/modules/generated/sklearn.linear_model.RidgeCV.html)"
     ]
    },
    {
     "cell_type": "code",
     "collapsed": false,
     "input": [
      "from sklearn import linear_model\n",
      "\n",
      "model = linear_model.RidgeCV(alphas=[0.1, 1.0, 10.0])\n",
      "model.fit(X,y)\n",
      "print X.columns\n",
      "print model.coef_\n",
      "print model.intercept_\n",
      "print model.alpha_\n",
      "print model.score(X,y)"
     ],
     "language": "python",
     "metadata": {},
     "outputs": [
      {
       "output_type": "stream",
       "stream": "stdout",
       "text": [
        "Index([u'sx[female]', u'sx[male]', u'rk[T.associate]', u'rk[T.full]', u'yr'], dtype='object')\n",
        "[[  252.00853358  -252.00853358  4244.57413402  9319.53599783\n",
        "    396.70915066]]\n",
        "[ 16219.06898784]\n",
        "0.1\n",
        "0.846059364483\n"
       ]
      }
     ],
     "prompt_number": 118
    },
    {
     "cell_type": "code",
     "collapsed": false,
     "input": [],
     "language": "python",
     "metadata": {},
     "outputs": []
    }
   ],
   "metadata": {}
  }
 ]
}